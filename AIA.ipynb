{
  "nbformat": 4,
  "nbformat_minor": 0,
  "metadata": {
    "colab": {
      "provenance": [],
      "collapsed_sections": [],
      "authorship_tag": "ABX9TyMLoMQgiIRY7eL8J6+HyWWs",
      "include_colab_link": true
    },
    "kernelspec": {
      "name": "python3",
      "display_name": "Python 3"
    },
    "language_info": {
      "name": "python"
    }
  },
  "cells": [
    {
      "cell_type": "markdown",
      "metadata": {
        "id": "view-in-github",
        "colab_type": "text"
      },
      "source": [
        "<a href=\"https://colab.research.google.com/github/JuniorAlfredoHuerta/PC1AIA/blob/main/AIA.ipynb\" target=\"_parent\"><img src=\"https://colab.research.google.com/assets/colab-badge.svg\" alt=\"Open In Colab\"/></a>"
      ]
    },
    {
      "cell_type": "code",
      "source": [
        "import numpy as np\n",
        "import random\n",
        "import matplotlib.pyplot as plt\n",
        "from time import time\n",
        "import statistics\n",
        "from random import randrange\n"
      ],
      "metadata": {
        "id": "J3MHCk2a9nLX"
      },
      "execution_count": null,
      "outputs": []
    },
    {
      "cell_type": "markdown",
      "source": [
        "Se divide en dos partes, ambas hacen uso del mismo JSSP pero modificado para que no haya errores, puede crear una lista de trabajos aleatorios con la funcion e randomsampling.\n",
        "\n",
        "En las funciones finales unicamente agregue la cantidad de trabajos y el numero de maquinas."
      ],
      "metadata": {
        "id": "s0bQp5bqKk0D"
      }
    },
    {
      "cell_type": "markdown",
      "source": [
        "### Randomsampling 1"
      ],
      "metadata": {
        "id": "PBH6qXSqKoPD"
      }
    },
    {
      "cell_type": "code",
      "source": [
        "#Generar una muestra aleatoria\n",
        "def randomsampling(n,m):    \n",
        "  jobs = np.zeros((n, m, 2), dtype=int)\n",
        "  for i in range(n):\n",
        "    l = testeo(m)\n",
        "    jobs[i] = np.array(l).reshape(m, 2)\n",
        "    np.random.shuffle(jobs[i])\n",
        "  final = jobs\n",
        "  return final\n",
        "\n"
      ],
      "metadata": {
        "id": "Lyp0LpMrMQw2"
      },
      "execution_count": null,
      "outputs": []
    },
    {
      "cell_type": "code",
      "source": [
        "#Generar la lista de trabajos aleatoros\n",
        "def testeo(m):\n",
        "  a = np.zeros(m)\n",
        "  c = np.zeros(m*2)\n",
        "  t = 0\n",
        "  p = 0\n",
        "  for i in range(m):\n",
        "    a[i] = i\n",
        "  for i in range(m*2):\n",
        "    x = random.randint(1,50)\n",
        "    if((i%2) == 0):\n",
        "      c[i] = a[t]\n",
        "      t += 1\n",
        "    else:\n",
        "      c[i] = x\n",
        "      p += 1 \n",
        "  return c"
      ],
      "metadata": {
        "id": "4C1HqIq2XuWs"
      },
      "execution_count": null,
      "outputs": []
    },
    {
      "cell_type": "code",
      "source": [
        "#JSSP desarrollado en clase\n",
        "def JSSPNORMAL(jobs,n,m):\n",
        "  rep = [i for i in range(n)]*m\n",
        "  random.shuffle(rep)\n",
        "  mstart = np.zeros((m), dtype=int)\n",
        "  jend = np.zeros((m), dtype=int)\n",
        "  idxs = np.zeros((n), dtype=int)\n",
        "\n",
        "  makespan = 0\n",
        "  for e in rep:\n",
        "      i = idxs[e]\n",
        "      idxs[e] += 1\n",
        "      midx = jobs[e, i, 0]\n",
        "      time = jobs[e, i, 1]\n",
        "      #print(f\"Job {e} task {i} to machine {midx} starting at {mstart[midx]} duration {time}\")\n",
        "      mstart[midx] = max(mstart[midx], jend[e]) + time\n",
        "      jend[e] = mstart[midx]\n",
        "      if mstart[midx] > makespan:\n",
        "          makespan = mstart[midx]\n",
        "\n",
        "  mstart = np.zeros((m), dtype=int)\n",
        "  jend = np.zeros((m), dtype=int)\n",
        "  idxs = np.zeros((n), dtype=int)\n",
        "  schedule = np.zeros((m*10, makespan))\n",
        "\n",
        "  for e in rep:\n",
        "      i = idxs[e]\n",
        "      idxs[e] += 1\n",
        "      midx = jobs[e, i, 0]\n",
        "      time = jobs[e, i, 1]\n",
        "      mstart[midx] = max(mstart[midx], jend[e])\n",
        "      schedule[midx*10:(midx+1)*10, mstart[midx]:mstart[midx] + time] = e+1\n",
        "      mstart[midx] += time\n",
        "      jend[e] = mstart[midx]\n",
        "\n",
        "  return makespan,schedule"
      ],
      "metadata": {
        "id": "jyVzqvoBLFUs"
      },
      "execution_count": null,
      "outputs": []
    },
    {
      "cell_type": "markdown",
      "source": [
        "###180 ejecuciones"
      ],
      "metadata": {
        "id": "hft5T3_twR_V"
      }
    },
    {
      "cell_type": "code",
      "source": [
        "#Muestreo simple\n",
        "def lesssampling(n,m,p):\n",
        "  listmake = []\n",
        "  schedule = []\n",
        "  for i in range(180):\n",
        "    makespan, schedule0 = JSSPNORMAL(p,n,m)\n",
        "    listmake.append(makespan)\n",
        "    if len(listmake) == 1:\n",
        "      Z = listmake[0]\n",
        "    if(Z >= makespan):\n",
        "      Z = makespan\n",
        "      schedule = schedule0\n",
        "  charts(listmake)\n",
        "  return makespan,schedule\n"
      ],
      "metadata": {
        "id": "PmvsTGBAwVCq"
      },
      "execution_count": null,
      "outputs": []
    },
    {
      "cell_type": "code",
      "source": [
        "#Testeo randomsampling\n",
        "def Testeos(p0,n,m,t):\n",
        "  listmake0 = []\n",
        "  schedulea = []\n",
        "  end = time() + t\n",
        "  while time() < end:\n",
        "    makespan0, schedule0 = JSSPNORMAL(p0,n,m)\n",
        "    listmake0.append(makespan0)\n",
        "    if len(listmake0) == 1:\n",
        "      Z = listmake0[0]\n",
        "    if(Z >= makespan0):\n",
        "      Z = makespan0\n",
        "      schedulea = schedule0  \n",
        "  print(\"rs  \",end = \" \")\n",
        "  charts(listmake0)\n",
        "  print(\"1rs \",end = \" \")\n",
        "  ML , SL = lesssampling(n,m,p0)\n",
        "  return schedulea , SL , listmake0\n",
        "\n",
        "  \n"
      ],
      "metadata": {
        "id": "PPQXnu5Au7TH"
      },
      "execution_count": null,
      "outputs": []
    },
    {
      "cell_type": "code",
      "source": [
        "#Devolver valores para la comparación\n",
        "def charts(listmake):\n",
        "  best = min(listmake)\n",
        "  z = listmake.index(best)\n",
        "  mean = sum(listmake)/len(listmake)\n",
        "  md = statistics.median(listmake)\n",
        "  sd = np.std(listmake)\n",
        "  print(best,\"  \", round(mean,2), \" \",round(md,2),\"\",round(sd,2),\"  de \",len(listmake), \"iteraciones\")\n"
      ],
      "metadata": {
        "id": "_9mlg0e53ieO"
      },
      "execution_count": null,
      "outputs": []
    },
    {
      "cell_type": "markdown",
      "source": [
        "JSSP A ORDENAR"
      ],
      "metadata": {
        "id": "JaaL93xqCGTv"
      }
    },
    {
      "cell_type": "code",
      "source": [
        "p0 = randomsampling(4,5)\n",
        "\n",
        "print(p0)"
      ],
      "metadata": {
        "colab": {
          "base_uri": "https://localhost:8080/"
        },
        "id": "qGpSra45B_0Q",
        "outputId": "83fe626a-d636-4be5-8e22-27e2fc23cc17"
      },
      "execution_count": null,
      "outputs": [
        {
          "output_type": "stream",
          "name": "stdout",
          "text": [
            "[[[ 2 13]\n",
            "  [ 3  8]\n",
            "  [ 1 45]\n",
            "  [ 4 39]\n",
            "  [ 0 16]]\n",
            "\n",
            " [[ 1 37]\n",
            "  [ 4  4]\n",
            "  [ 3  9]\n",
            "  [ 0 17]\n",
            "  [ 2  4]]\n",
            "\n",
            " [[ 3 44]\n",
            "  [ 2 47]\n",
            "  [ 4  4]\n",
            "  [ 1 27]\n",
            "  [ 0 48]]\n",
            "\n",
            " [[ 4 36]\n",
            "  [ 3 21]\n",
            "  [ 2 20]\n",
            "  [ 1 12]\n",
            "  [ 0  4]]]\n"
          ]
        }
      ]
    },
    {
      "cell_type": "markdown",
      "source": [
        "### Funcional final\n",
        "Testeos ( Numero de tareas, Numero de maquinas, tiempo de ejecución del muestreo aleatorio)\n",
        "\n",
        "El single rs lo ejecute 180 en base a las 101 que decia la diapo\n",
        "el rd lo ejecute 180 segundos\n",
        "\n",
        "Ejecuta perfectamente 180 segundos en las pruebas, pero no lo recomiendo ejecutarlo, si quiere hacerlo baje los numeros\n",
        "\n",
        "antes guardaba todo la lista de schedule pero al guardar nada más la lista de makespan y devolver el schedule ganador no mata la memoria\n"
      ],
      "metadata": {
        "id": "zi5TOyEA8fD2"
      }
    },
    {
      "cell_type": "code",
      "source": [
        "#Si alcanza la ram xd\n",
        "print( \"algo best   mean     med    sd\")\n",
        "S0, S1 , L1 = Testeos(p0,4,5,180) #Esta es la final\n",
        "#S2, S3 , L2= Testeos(4,5,5)\n",
        "#S4, S5 , L3= Testeos(4,5,5)\n",
        "#S6, S7 , L4= Testeos(4,5,5)"
      ],
      "metadata": {
        "colab": {
          "base_uri": "https://localhost:8080/"
        },
        "id": "w91GzJRkjFkU",
        "outputId": "6a1c564e-bb08-4a8d-9921-f986d809c4b2"
      },
      "execution_count": null,
      "outputs": [
        {
          "output_type": "stream",
          "name": "stdout",
          "text": [
            "algo best   mean     med    sd\n",
            "rs   192    258.38   257.0  34.35   de  1114330 iteraciones\n",
            "1rs  192    255.87   256.0  33.93   de  180 iteraciones\n"
          ]
        }
      ]
    },
    {
      "cell_type": "markdown",
      "source": [
        "La curva fue bajando conforme se hacian muchas iterraciones\n",
        "\n",
        "Aunque este ordenado se denota el como fue disminuyendo a lo largo de las iterraciones"
      ],
      "metadata": {
        "id": "IQBsO7S07ZpU"
      }
    },
    {
      "cell_type": "code",
      "source": [
        "L1.sort(reverse = True)\n",
        "plt.plot(L1)\n",
        "plt.show()"
      ],
      "metadata": {
        "colab": {
          "base_uri": "https://localhost:8080/",
          "height": 278
        },
        "id": "QzCsi2vP7Huz",
        "outputId": "6ba32489-6a88-4cc4-be63-f557ca20d716"
      },
      "execution_count": null,
      "outputs": [
        {
          "output_type": "display_data",
          "data": {
            "text/plain": [
              "<Figure size 432x288 with 1 Axes>"
            ],
            "image/png": "[encoded data removed]"
          },
          "metadata": {
            "needs_background": "light"
          }
        }
      ]
    },
    {
      "cell_type": "markdown",
      "source": [
        "### Genetic Algorithm"
      ],
      "metadata": {
        "id": "FsC7_NiJbTDC"
      }
    },
    {
      "cell_type": "code",
      "source": [
        "#poblacion\n",
        "POPULATION = 100"
      ],
      "metadata": {
        "id": "b0TZdPp_ncZb"
      },
      "execution_count": null,
      "outputs": []
    },
    {
      "cell_type": "code",
      "source": [
        "#crear genoma\n",
        "def creargen(n,m):\n",
        "  genome = []\n",
        "  for i in range(n):\n",
        "      genome.extend(np.full(m,i))\n",
        "  np.random.shuffle(genome)  \n",
        "  return genome\n"
      ],
      "metadata": {
        "id": "XCNJm4MKbnVq"
      },
      "execution_count": null,
      "outputs": []
    },
    {
      "cell_type": "code",
      "source": [
        "#Algoritmo JSSPA desarollado en clase para correr en genetico\n",
        "def JSSPGA(cromosoma,n,m,jobs):\n",
        "  mstart = np.zeros((m), dtype=int)\n",
        "  jend = np.zeros((n), dtype=int)\n",
        "  idxs = np.zeros((n), dtype=int)\n",
        "  makespan = 0\n",
        "  for e in cromosoma:\n",
        "      i = idxs[e]\n",
        "      idxs[e] += 1\n",
        "      midx = jobs[e, i, 0]\n",
        "      tim = jobs[e, i, 1]\n",
        "      #print(f\"Job {e} task {i} to machine {midx} starting at {mstart[midx]} duration {time}\")\n",
        "      mstart[midx] = max(mstart[midx], jend[e]) + tim\n",
        "      jend[e] = mstart[midx]\n",
        "      if mstart[midx] > makespan:\n",
        "          makespan = mstart[midx]\n",
        "\n",
        "  return makespan"
      ],
      "metadata": {
        "id": "E1Uh8gqrc_ic"
      },
      "execution_count": null,
      "outputs": []
    },
    {
      "cell_type": "code",
      "source": [
        "#Cumplir de forma correcta el JSSP\n",
        "def funciondevalidacion(cromosomah,n,m):\n",
        "  cjobs , counts = np.unique(cromosomah, return_counts=True)\n",
        "  faltantes = []\n",
        "  for k in range(len(cjobs)):\n",
        "    for i in range(len(cromosomah)):\n",
        "      if counts[k] > m:\n",
        "        for j in range(len(counts)):\n",
        "          if counts[j] < m:\n",
        "            faltantes.append(j)\n",
        "            counts[j]  += 1\n",
        "            counts[k] -= 1\n",
        "          if counts[k] == m:\n",
        "            break\n",
        "  \n",
        "  cjobs , counts = np.unique(cromosomah, return_counts=True)\n",
        "\n",
        "  for k in range(len(cjobs)):\n",
        "    p = 0\n",
        "    for i in range(len(cromosomah)):\n",
        "      if cromosomah[i] == k:\n",
        "        p += 1\n",
        "      if p > m:\n",
        "        y = faltantes[0]\n",
        "        cromosomah[i] = y\n",
        "        faltantes.pop(0)\n",
        "        p -= 1\n",
        "        \n",
        "\n",
        "  cjobs , counts = np.unique(cromosomah, return_counts=True)\n",
        "  print(cjobs,counts)\n",
        "  print(\"nuevo\")\n",
        "\n",
        "  return cromosomah, JSSPGA(cromosomah,n,m,jobs)"
      ],
      "metadata": {
        "id": "v0UJj-Fb6jtl"
      },
      "execution_count": null,
      "outputs": []
    },
    {
      "cell_type": "code",
      "source": [
        "#herencia y mutaciones\n",
        "def GA(pa1,pa2,n,m,jobs):\n",
        "\n",
        "  cromosomah = []\n",
        "  for i in range(len(pa1)):\n",
        "    gp1 = pa1[i]\n",
        "    gp2 = pa2[i]\n",
        "    prob = random.random()\n",
        "    if prob < 0.33:\n",
        "      cromosomah.append(gp1)\n",
        "    elif prob < 0.66:\n",
        "      cromosomah.append(gp2)\n",
        "    else:\n",
        "      cromosomah.append(randrange(n-1))\n",
        "\n",
        "  #Cumplir de forma correcta el JSSP\n",
        "  cjobs , counts = np.unique(cromosomah, return_counts=True)\n",
        "  if len(cjobs) < n:\n",
        "    return GA(pa1,pa2,n,m,jobs)\n",
        "  else: \n",
        "    faltantes = []\n",
        "    for k in range(len(cjobs)):\n",
        "      for i in range(len(cromosomah)):\n",
        "        if counts[k] > m:\n",
        "          for j in range(len(counts)):\n",
        "            if counts[j] < m:\n",
        "              faltantes.append(j)\n",
        "              counts[j]  += 1\n",
        "              counts[k] -= 1\n",
        "            if counts[k] == m:\n",
        "              break\n",
        "\n",
        "    cjobs , counts = np.unique(cromosomah, return_counts=True)\n",
        "\n",
        "    for k in range(len(cjobs)):\n",
        "      p = 0\n",
        "      for i in range(len(cromosomah)):\n",
        "        if cromosomah[i] == k:\n",
        "          p += 1\n",
        "        if p > m:\n",
        "          y = faltantes[0]\n",
        "          cromosomah[i] = y\n",
        "          faltantes.pop(0)\n",
        "          p -= 1\n",
        "\n",
        "    return cromosomah, JSSPGA(cromosomah,n,m,jobs)\n",
        "\n",
        "\n"
      ],
      "metadata": {
        "id": "8ehjCDXfhBtk"
      },
      "execution_count": null,
      "outputs": []
    },
    {
      "cell_type": "code",
      "source": [
        "#funcion main\n",
        "def main (n,m,jobs):\n",
        "  global POPULATION\n",
        "  generacion = 1\n",
        "  found = False\n",
        "  poblacion = []\n",
        "  makespos = []\n",
        "  for i in range(POPULATION):\n",
        "    genoma = creargen(n,m)\n",
        "    makespos.append(JSSPGA(genoma,n,m,jobs))\n",
        "    poblacion.append(genoma)\n",
        "  return genoma, poblacion , makespos\n"
      ],
      "metadata": {
        "id": "SgrgZvtuqhUc"
      },
      "execution_count": null,
      "outputs": []
    },
    {
      "cell_type": "code",
      "source": [
        "#funcion final\n",
        "\n",
        "def TesteosGA(jobs,n,m,t):\n",
        "  global POPULATION\n",
        "  generacion = 1\n",
        "  genoma , poblacion, makespos = main(n,m,jobs)\n",
        "  x = int(len(poblacion) / 2)\n",
        "  end = time() + t\n",
        "  listmake0 = []\n",
        "  index = []\n",
        "  while time() < end:\n",
        "    poblacion = [x for _,x in sorted(zip(makespos,poblacion))]  \n",
        "    makespos.sort()\n",
        "    nuevagen = []\n",
        "    nuevagenmake=  []\n",
        "    s = int((20*POPULATION)/100)\n",
        "    nuevagen.extend(poblacion[:s])\n",
        "    nuevagenmake.extend(makespos[:s])\n",
        "    s = int((80*POPULATION)/100)\n",
        "    for i in range(s):\n",
        "        parent1 = parentchoice(poblacion,x)\n",
        "        parent2 = parentchoice(poblacion,x)\n",
        "        child , childmake= GA(parent1,parent2, n, m, jobs)\n",
        "        nuevagen.append(child)\n",
        "        nuevagenmake.append(childmake)\n",
        "    poblacion = nuevagen\n",
        "    makespos = nuevagenmake\n",
        "    listmake0.append(makespos[0])\n",
        "  \n",
        "  return makespos\n",
        "    \n",
        "\n",
        "\n",
        "\n",
        "\n",
        "\n",
        "\n"
      ],
      "metadata": {
        "id": "N9LEO4y3qt5A"
      },
      "execution_count": null,
      "outputs": []
    },
    {
      "cell_type": "code",
      "source": [
        "def parentchoice(poblacion,x):\n",
        "  p = []\n",
        "  for i in range(len(poblacion)):\n",
        "    p.append(i)\n",
        "  parent1 = random.choice(p[:x]) \n",
        "  if poblacion[parent1] == None:\n",
        "    return poblacion[0]\n",
        "  else:\n",
        "    return poblacion[parent1]\n"
      ],
      "metadata": {
        "id": "xRoE8C-ABYrX"
      },
      "execution_count": null,
      "outputs": []
    },
    {
      "cell_type": "markdown",
      "source": [
        "#Funcion final\n",
        "TesteosGA ( Numero de tareas, Numero de maquinas, tiempo de ejecución del muestreo aleatorio)\n"
      ],
      "metadata": {
        "id": "-eJBFDrxLb9r"
      }
    },
    {
      "cell_type": "code",
      "source": [
        "A = TesteosGA(p0,4,5,180)"
      ],
      "metadata": {
        "id": "e59fSsR5qWlC"
      },
      "execution_count": null,
      "outputs": []
    },
    {
      "cell_type": "code",
      "source": [
        "A.sort(reverse = True)\n",
        "plt.plot(A)\n",
        "plt.show()"
      ],
      "metadata": {
        "colab": {
          "base_uri": "https://localhost:8080/",
          "height": 265
        },
        "id": "odenEcpprV5J",
        "outputId": "127d65bd-eead-47a1-8821-94612c61ca9a"
      },
      "execution_count": null,
      "outputs": [
        {
          "output_type": "display_data",
          "data": {
            "text/plain": [
              "<Figure size 432x288 with 1 Axes>"
            ],
            "image/png": "[encoded data removed]"
          },
          "metadata": {
            "needs_background": "light"
          }
        }
      ]
    },
    {
      "cell_type": "markdown",
      "source": [
        "#Comparacion"
      ],
      "metadata": {
        "id": "mZVrLB-zrjf3"
      }
    },
    {
      "cell_type": "code",
      "source": [
        "print(\"minimo de Genetico:\",min(A))\n",
        "print(\"minimo de Randomsampling:\" , min(L1))"
      ],
      "metadata": {
        "colab": {
          "base_uri": "https://localhost:8080/"
        },
        "id": "6f7aYNH6uq92",
        "outputId": "d62fff95-5aa8-4354-e40f-0236c8b92dc1"
      },
      "execution_count": null,
      "outputs": [
        {
          "output_type": "stream",
          "name": "stdout",
          "text": [
            "minimo de Genetico: 241\n",
            "minimo de Randomsampling: 210\n"
          ]
        }
      ]
    },
    {
      "cell_type": "markdown",
      "source": [
        "### TOP 100 debido a las dimensiones"
      ],
      "metadata": {
        "id": "y5NG6EnHu-L2"
      }
    },
    {
      "cell_type": "code",
      "source": [
        "#Eliminar repetidos pues son muchos\n",
        "L1 = (list(set(L1)))\n",
        "L1.sort()\n",
        "TOP80 = L1[:100]\n",
        "TOP80.sort(reverse = True)"
      ],
      "metadata": {
        "id": "rg3vL5eku9ZN"
      },
      "execution_count": null,
      "outputs": []
    },
    {
      "cell_type": "code",
      "source": [
        "plt.plot(TOP80, )\n",
        "plt.plot(A, )\n",
        "plt.legend(['Random Sampling', 'Genetico'])\n",
        "plt.show()"
      ],
      "metadata": {
        "colab": {
          "base_uri": "https://localhost:8080/",
          "height": 265
        },
        "id": "0Y_1Buo4vZAl",
        "outputId": "d47ce135-520a-4e43-f02e-83e51cbf807b"
      },
      "execution_count": null,
      "outputs": [
        {
          "output_type": "display_data",
          "data": {
            "text/plain": [
              "<Figure size 432x288 with 1 Axes>"
            ],
            "image/png": "[encoded data removed]"
          },
          "metadata": {
            "needs_background": "light"
          }
        }
      ]
    },
    {
      "cell_type": "markdown",
      "source": [
        "#La funcion de RANDOMSAMPLING es relativamente mejor, aunque siempre habran errores a corregir, eso seria todo. tambien depende de la suerte al momento de generar. y que tanto cambia la descencia del algoritmo genetico"
      ],
      "metadata": {
        "id": "Dr2ieQ5oy05i"
      }
    }
  ]
}